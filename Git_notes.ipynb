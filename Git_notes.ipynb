{
 "cells": [
  {
   "cell_type": "markdown",
   "metadata": {},
   "source": [
    "* Create new folder for new project"
   ]
  },
  {
   "cell_type": "markdown",
   "metadata": {},
   "source": [
    "* initialize this folder with\n",
    "```bash \n",
    "git init\n",
    "```\n",
    "A folder ***.git*** will be created\n",
    "\n",
    "* next files can be created and modified, and we can tell git to track them\n",
    "```bash\n",
    "git add hello.py\n",
    "```\n",
    "* next we make a commit with comment (***-m*** option)\n",
    "``` bash\n",
    "git commit -m 'initial commit'\n",
    "```\n",
    "* check with ***git log*** changes and so on\n",
    "\n",
    "* if we modify hello.py we can commit again, ***-a*** option commits all changes \n",
    "```bash \n",
    "git commit -am 'Changed XY in hello.py'\n",
    "```\n",
    "\n",
    "* Changes can be shown with \n",
    "```bash\n",
    "git diff\n",
    "```\n",
    "\n"
   ]
  },
  {
   "cell_type": "code",
   "execution_count": null,
   "metadata": {},
   "outputs": [],
   "source": [
    "ls"
   ]
  },
  {
   "cell_type": "code",
   "execution_count": null,
   "metadata": {},
   "outputs": [],
   "source": []
  }
 ],
 "metadata": {
  "kernelspec": {
   "display_name": "Python 3",
   "language": "python",
   "name": "python3"
  },
  "language_info": {
   "codemirror_mode": {
    "name": "ipython",
    "version": 3
   },
   "file_extension": ".py",
   "mimetype": "text/x-python",
   "name": "python",
   "nbconvert_exporter": "python",
   "pygments_lexer": "ipython3",
   "version": "3.6.4"
  }
 },
 "nbformat": 4,
 "nbformat_minor": 2
}
